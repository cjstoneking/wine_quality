{
 "cells": [
  {
   "cell_type": "code",
   "execution_count": 1,
   "metadata": {},
   "outputs": [
    {
     "name": "stderr",
     "output_type": "stream",
     "text": [
      "\n",
      "Attaching package: ‘dplyr’\n",
      "\n",
      "The following objects are masked from ‘package:stats’:\n",
      "\n",
      "    filter, lag\n",
      "\n",
      "The following objects are masked from ‘package:base’:\n",
      "\n",
      "    intersect, setdiff, setequal, union\n",
      "\n"
     ]
    }
   ],
   "source": [
    "library(dplyr)\n",
    "library(plsRglm)"
   ]
  },
  {
   "cell_type": "code",
   "execution_count": 56,
   "metadata": {},
   "outputs": [],
   "source": [
    "get_default_hyperparameters <- function(){\n",
    "    hyperparameters <- list()\n",
    "    attr(hyperparameters, \"n_attempts\") <- 10\n",
    "    attr(hyperparameters, \"single_model_K\") <- 10\n",
    "    attr(hyperparameters, \"pls_components\") <- 2\n",
    "    attr(hyperparameters, \"pls_model\") <- \"pls-glm-gaussian\"\n",
    "    attr(hyperparameters, \"use_wvc\") <- TRUE\n",
    "    attr(hyperparameters, \"retest_predictors\") <- FALSE\n",
    "    return(hyperparameters)\n",
    "}"
   ]
  },
  {
   "cell_type": "code",
   "execution_count": null,
   "metadata": {},
   "outputs": [],
   "source": [
    "train_ensemble <- function(data, response_name=\"quality\", hyperparameters=get_default_hyperparameters()){\n",
    "    \n",
    "    response <- data[[response_name]]\n",
    "    predictors <- data\n",
    "    predictors[[response_name]] <- NULL\n",
    "    \n",
    "    znorm <- function(x)  (x - mean(x))/ sd(x)\n",
    "    predictors <- apply(predictors, 2, znorm)\n",
    "    print(head(predictors))\n",
    "    \n",
    "}"
   ]
  },
  {
   "cell_type": "code",
   "execution_count": null,
   "metadata": {},
   "outputs": [],
   "source": [
    "#build a single model given a description\n",
    "build_single_model <- function"
   ]
  },
  {
   "cell_type": "code",
   "execution_count": 54,
   "metadata": {},
   "outputs": [
    {
     "ename": "ERROR",
     "evalue": "Error in parse(text = x, srcfile = src): <text>:34:9: unexpected '}'\n33:             oof_scores[i] <- modplsglm$\n34:         }\n            ^\n",
     "output_type": "error",
     "traceback": [
      "Error in parse(text = x, srcfile = src): <text>:34:9: unexpected '}'\n33:             oof_scores[i] <- modplsglm$\n34:         }\n            ^\nTraceback:\n"
     ]
    }
   ],
   "source": [
    "#train a single model\n",
    "#to serve as part of an ensemble\n",
    "#return set of predictors used for that model\n",
    "train_single_model <- function(predictors, response, hyperparameters=get_default_hyperparameters()){\n",
    "    \n",
    "    K <- attr(hyperparameters, \"single_model_K\")\n",
    "    CV_folds   <- get_CV_folds(nrow(predictors), K)\n",
    "    train_indices <- CV_folds[1]\n",
    "    test_indices <- CV_folds[2]\n",
    "    n_attempts <- attr(hyperparameters, \"n_attempts\")\n",
    "    n_comp <- attr(hyperparameters, \"pls_components\")\n",
    "    modele <- attr(hyperparameters, \"pls_model\")\n",
    "    retest <- attr(hyperparameters, \"retest_predictors\")\n",
    "    \n",
    "    use_wvc <- att(hyperparameters, \"use_wvc\")\n",
    "    \n",
    "    if(use_wvc){\n",
    "        plsRglm_func = plsRglm_wvc\n",
    "    }\n",
    "    else{\n",
    "        plsRglm_func = plsRglm\n",
    "    }\n",
    "    \n",
    "    predictor_set <- list()\n",
    "    best_predictor_set <- list()\n",
    "    tested_predictors <- list()\n",
    "    best_score <- Inf\n",
    "    \n",
    "    for(n in 1:n_attempts){\n",
    "        \n",
    "        current_predictor_set <- best_predictor_set\n",
    "        \n",
    "        #for the first iteration, run the empty model\n",
    "        #to get performance of intercept\n",
    "        #after first iteration, add predictors to model\n",
    "        if(n > 1){\n",
    "            all_predictors <- colnames(predictors)\n",
    "            unused_predictors <- list()\n",
    "            for j in 1:length(unused_predictors){\n",
    "                p <- all_predictors[j]\n",
    "                if(!( p %in% current_predictor_set) && (retest || !(p %in% tested_predictors))){\n",
    "                    unused_predictors <- append(unused_predictors, p)\n",
    "                }\n",
    "            }\n",
    "            p <- sample(unused_predictors, 1)\n",
    "            current_predictor_set <- append(current_predictor_set, p)\n",
    "            tested_predictors <- p\n",
    "        }\n",
    "        \n",
    "        \n",
    "        oof_scores <- vector(\"list\", K)\n",
    "        \n",
    "        for(k in 1:K){\n",
    "            train_X <- predictors[train_indices,current_predictor_set]\n",
    "            test_X  <- predictors[test_indices,current_predictor_set]\n",
    "            train_Y <- response[train_indices,]\n",
    "            test_Y  <- response[test_indices,] \n",
    "\n",
    "            modplsglm  <- plsRglm_func(train_Y,train_X,dataPredictY=test_X,nt=n_comp,modele=modele)\n",
    "            \n",
    "            oof_scores[i] <- mean(abs(test_Y - modplsglm$ValsPredictY))\n",
    "        }\n",
    "        #if the model is an improvement over previous best, update it\n",
    "        final_score <- mean(oof_scores)\n",
    "        if(final_score < best_score){\n",
    "            best_score <- final_score\n",
    "            best_predictor_set <- current_predictor_set\n",
    "        }\n",
    "    }\n",
    "    #train and evaluate the model on the full dataset?\n",
    "    #use this to get residuals for use by future models?\n",
    "    \n",
    "    return(best_predictor_set)\n",
    "}"
   ]
  },
  {
   "cell_type": "code",
   "execution_count": 4,
   "metadata": {},
   "outputs": [],
   "source": [
    "find_or_download_data <- function (main_url, files){\n",
    "\n",
    "    for (i in 1:length(files)){\n",
    "        if(!file.exists(files[i])){\n",
    "            print(paste(\"Could not find\", files[i], \"- attempting to download\", sep=\" \" ))\n",
    "            download.file(paste(main_url, files[i],sep=\"\") , files[i], \"auto\", quiet = FALSE)\n",
    "        }\n",
    "    }\n",
    "    for (i in 1:length(files)){\n",
    "        if(!file.exists(files[i])){\n",
    "            print(paste(\"Could not find or download\", files[i], \"- training will fail\", sep=\" \" ))\n",
    "            return(0)\n",
    "        }\n",
    "    }\n",
    "    return(1)\n",
    "}"
   ]
  },
  {
   "cell_type": "code",
   "execution_count": 39,
   "metadata": {},
   "outputs": [],
   "source": [
    "get_CV_folds <- function(N, K){\n",
    "    train_indices <- vector(\"list\", K)\n",
    "    test_indices  <- vector(\"list\", K)\n",
    "    random_permutation <- sample(N, N, replace=FALSE)\n",
    "    for (i in 1:K){\n",
    "        start <- floor(N*(i-1)/K) + 1\n",
    "        stop  <- floor(N*i/K)\n",
    "        test_indices[i] <- random_permutation[start:stop]\n",
    "        train_indices[i] <- random_permutation[-(start:stop)]\n",
    "    }\n",
    "    return(c(train_indices, test_indices))\n",
    "}"
   ]
  },
  {
   "cell_type": "code",
   "execution_count": 2,
   "metadata": {},
   "outputs": [],
   "source": [
    "#script for evaluating different approaches\n",
    "dev_script <- function(){\n",
    "    main_url <- \"https://archive.ics.uci.edu/ml/machine-learning-databases/wine-quality/\"\n",
    "    files <- c(\"winequality-red.csv\", \"winequality-white.csv\")\n",
    "    K <- 5\n",
    "    #number of folds for topmost level of cross-validation\n",
    "    \n",
    "    have_data <- find_or_download_data(main_url, files)\n",
    "    if(!have_data){\n",
    "        print(\"Could not find or download data - returning null\")\n",
    "        return(NULL)\n",
    "    }\n",
    "    else{\n",
    "        single_datasets <- vector(\"list\", length(files))\n",
    "        for (i in 1:length(files)){\n",
    "            single_datasets[[i]] <- read.csv(files[i], header=TRUE, sep=\";\")\n",
    "            single_datasets[[i]]$file.number <- i\n",
    "        }\n",
    "        data <- cbind(single_datasets)\n",
    "        data <- bind_rows(single_datasets, .id = \"column_label\")\n",
    "        #data = full dataset (merged across all files)\n",
    "        \n",
    "        CV_indices <- get_CV_folds(nrow(data), K)\n",
    "        train_indices <- CV_indices[1]\n",
    "        test_indices  <- CV_indices[2]\n",
    "        \n",
    "        for (i in 1:K){\n",
    "            ensemble <- train_ensemble(data[train_indices[i],:], response=\"quality\")\n",
    "            oof_pred <- predict(ensemble, data[test_indices[i],:], response=\"quality\")\n",
    "        }\n",
    "        \n",
    "        \n",
    "        n_models <- 10\n",
    "        \n",
    "        \n",
    "        \n",
    "        model <- train_single_model(data, \"quality\")\n",
    "        \n",
    "        \n",
    "    }\n",
    "    return(NULL)\n",
    "}"
   ]
  },
  {
   "cell_type": "code",
   "execution_count": 3,
   "metadata": {},
   "outputs": [
    {
     "ename": "ERROR",
     "evalue": "Error in sd$quality: object of type 'closure' is not subsettable\n",
     "output_type": "error",
     "traceback": [
      "Error in sd$quality: object of type 'closure' is not subsettable\nTraceback:\n"
     ]
    }
   ],
   "source": [
    "sd$quality"
   ]
  },
  {
   "cell_type": "code",
   "execution_count": 5,
   "metadata": {},
   "outputs": [],
   "source": [
    "sd <- train_model()"
   ]
  },
  {
   "cell_type": "code",
   "execution_count": 5,
   "metadata": {},
   "outputs": [],
   "source": [
    "df <- read.csv(\"winequality-red.csv\", header=TRUE, sep=\";\")"
   ]
  },
  {
   "cell_type": "code",
   "execution_count": 10,
   "metadata": {},
   "outputs": [
    {
     "data": {
      "text/html": [
       "<table>\n",
       "<thead><tr><th scope=col>fixed.acidity</th><th scope=col>volatile.acidity</th><th scope=col>citric.acid</th><th scope=col>residual.sugar</th><th scope=col>chlorides</th><th scope=col>free.sulfur.dioxide</th><th scope=col>total.sulfur.dioxide</th><th scope=col>density</th><th scope=col>pH</th><th scope=col>sulphates</th><th scope=col>alcohol</th><th scope=col>quality</th></tr></thead>\n",
       "<tbody>\n",
       "\t<tr><td> 7.4  </td><td>0.70  </td><td>0.00  </td><td>1.9   </td><td>0.076 </td><td>11    </td><td>34    </td><td>0.9978</td><td>3.51  </td><td>0.56  </td><td>9.4   </td><td>5     </td></tr>\n",
       "\t<tr><td> 7.8  </td><td>0.88  </td><td>0.00  </td><td>2.6   </td><td>0.098 </td><td>25    </td><td>67    </td><td>0.9968</td><td>3.20  </td><td>0.68  </td><td>9.8   </td><td>5     </td></tr>\n",
       "\t<tr><td> 7.8  </td><td>0.76  </td><td>0.04  </td><td>2.3   </td><td>0.092 </td><td>15    </td><td>54    </td><td>0.9970</td><td>3.26  </td><td>0.65  </td><td>9.8   </td><td>5     </td></tr>\n",
       "\t<tr><td>11.2  </td><td>0.28  </td><td>0.56  </td><td>1.9   </td><td>0.075 </td><td>17    </td><td>60    </td><td>0.9980</td><td>3.16  </td><td>0.58  </td><td>9.8   </td><td>6     </td></tr>\n",
       "\t<tr><td> 7.4  </td><td>0.70  </td><td>0.00  </td><td>1.9   </td><td>0.076 </td><td>11    </td><td>34    </td><td>0.9978</td><td>3.51  </td><td>0.56  </td><td>9.4   </td><td>5     </td></tr>\n",
       "\t<tr><td> 7.4  </td><td>0.66  </td><td>0.00  </td><td>1.8   </td><td>0.075 </td><td>13    </td><td>40    </td><td>0.9978</td><td>3.51  </td><td>0.56  </td><td>9.4   </td><td>5     </td></tr>\n",
       "</tbody>\n",
       "</table>\n"
      ],
      "text/latex": [
       "\\begin{tabular}{r|llllllllllll}\n",
       " fixed.acidity & volatile.acidity & citric.acid & residual.sugar & chlorides & free.sulfur.dioxide & total.sulfur.dioxide & density & pH & sulphates & alcohol & quality\\\\\n",
       "\\hline\n",
       "\t  7.4   & 0.70   & 0.00   & 1.9    & 0.076  & 11     & 34     & 0.9978 & 3.51   & 0.56   & 9.4    & 5     \\\\\n",
       "\t  7.8   & 0.88   & 0.00   & 2.6    & 0.098  & 25     & 67     & 0.9968 & 3.20   & 0.68   & 9.8    & 5     \\\\\n",
       "\t  7.8   & 0.76   & 0.04   & 2.3    & 0.092  & 15     & 54     & 0.9970 & 3.26   & 0.65   & 9.8    & 5     \\\\\n",
       "\t 11.2   & 0.28   & 0.56   & 1.9    & 0.075  & 17     & 60     & 0.9980 & 3.16   & 0.58   & 9.8    & 6     \\\\\n",
       "\t  7.4   & 0.70   & 0.00   & 1.9    & 0.076  & 11     & 34     & 0.9978 & 3.51   & 0.56   & 9.4    & 5     \\\\\n",
       "\t  7.4   & 0.66   & 0.00   & 1.8    & 0.075  & 13     & 40     & 0.9978 & 3.51   & 0.56   & 9.4    & 5     \\\\\n",
       "\\end{tabular}\n"
      ],
      "text/markdown": [
       "\n",
       "| fixed.acidity | volatile.acidity | citric.acid | residual.sugar | chlorides | free.sulfur.dioxide | total.sulfur.dioxide | density | pH | sulphates | alcohol | quality |\n",
       "|---|---|---|---|---|---|---|---|---|---|---|---|\n",
       "|  7.4   | 0.70   | 0.00   | 1.9    | 0.076  | 11     | 34     | 0.9978 | 3.51   | 0.56   | 9.4    | 5      |\n",
       "|  7.8   | 0.88   | 0.00   | 2.6    | 0.098  | 25     | 67     | 0.9968 | 3.20   | 0.68   | 9.8    | 5      |\n",
       "|  7.8   | 0.76   | 0.04   | 2.3    | 0.092  | 15     | 54     | 0.9970 | 3.26   | 0.65   | 9.8    | 5      |\n",
       "| 11.2   | 0.28   | 0.56   | 1.9    | 0.075  | 17     | 60     | 0.9980 | 3.16   | 0.58   | 9.8    | 6      |\n",
       "|  7.4   | 0.70   | 0.00   | 1.9    | 0.076  | 11     | 34     | 0.9978 | 3.51   | 0.56   | 9.4    | 5      |\n",
       "|  7.4   | 0.66   | 0.00   | 1.8    | 0.075  | 13     | 40     | 0.9978 | 3.51   | 0.56   | 9.4    | 5      |\n",
       "\n"
      ],
      "text/plain": [
       "  fixed.acidity volatile.acidity citric.acid residual.sugar chlorides\n",
       "1  7.4          0.70             0.00        1.9            0.076    \n",
       "2  7.8          0.88             0.00        2.6            0.098    \n",
       "3  7.8          0.76             0.04        2.3            0.092    \n",
       "4 11.2          0.28             0.56        1.9            0.075    \n",
       "5  7.4          0.70             0.00        1.9            0.076    \n",
       "6  7.4          0.66             0.00        1.8            0.075    \n",
       "  free.sulfur.dioxide total.sulfur.dioxide density pH   sulphates alcohol\n",
       "1 11                  34                   0.9978  3.51 0.56      9.4    \n",
       "2 25                  67                   0.9968  3.20 0.68      9.8    \n",
       "3 15                  54                   0.9970  3.26 0.65      9.8    \n",
       "4 17                  60                   0.9980  3.16 0.58      9.8    \n",
       "5 11                  34                   0.9978  3.51 0.56      9.4    \n",
       "6 13                  40                   0.9978  3.51 0.56      9.4    \n",
       "  quality\n",
       "1 5      \n",
       "2 5      \n",
       "3 5      \n",
       "4 6      \n",
       "5 5      \n",
       "6 5      "
      ]
     },
     "metadata": {},
     "output_type": "display_data"
    }
   ],
   "source": [
    "df2 <- df\n",
    "df2$quality <- NULL\n",
    "head(df)"
   ]
  },
  {
   "cell_type": "code",
   "execution_count": 17,
   "metadata": {},
   "outputs": [],
   "source": [
    "znorm <- function(x)  (x - mean(x))/ sd(x)\n",
    "dfnorm <- apply(df, 2, znorm)"
   ]
  },
  {
   "cell_type": "code",
   "execution_count": 48,
   "metadata": {},
   "outputs": [],
   "source": [
    "df2[[\"quality\"]] <- NULL"
   ]
  },
  {
   "cell_type": "code",
   "execution_count": 57,
   "metadata": {},
   "outputs": [
    {
     "data": {
      "text/html": [
       "1599"
      ],
      "text/latex": [
       "1599"
      ],
      "text/markdown": [
       "1599"
      ],
      "text/plain": [
       "[1] 1599"
      ]
     },
     "metadata": {},
     "output_type": "display_data"
    }
   ],
   "source": [
    "nrow(df2)"
   ]
  },
  {
   "cell_type": "code",
   "execution_count": 62,
   "metadata": {},
   "outputs": [
    {
     "data": {
      "text/html": [
       "<ol class=list-inline>\n",
       "\t<li>'fixed.acidity'</li>\n",
       "\t<li>'volatile.acidity'</li>\n",
       "\t<li>'citric.acid'</li>\n",
       "\t<li>'residual.sugar'</li>\n",
       "\t<li>'chlorides'</li>\n",
       "\t<li>'free.sulfur.dioxide'</li>\n",
       "\t<li>'total.sulfur.dioxide'</li>\n",
       "\t<li>'density'</li>\n",
       "\t<li>'pH'</li>\n",
       "\t<li>'sulphates'</li>\n",
       "\t<li>'alcohol'</li>\n",
       "</ol>\n"
      ],
      "text/latex": [
       "\\begin{enumerate*}\n",
       "\\item 'fixed.acidity'\n",
       "\\item 'volatile.acidity'\n",
       "\\item 'citric.acid'\n",
       "\\item 'residual.sugar'\n",
       "\\item 'chlorides'\n",
       "\\item 'free.sulfur.dioxide'\n",
       "\\item 'total.sulfur.dioxide'\n",
       "\\item 'density'\n",
       "\\item 'pH'\n",
       "\\item 'sulphates'\n",
       "\\item 'alcohol'\n",
       "\\end{enumerate*}\n"
      ],
      "text/markdown": [
       "1. 'fixed.acidity'\n",
       "2. 'volatile.acidity'\n",
       "3. 'citric.acid'\n",
       "4. 'residual.sugar'\n",
       "5. 'chlorides'\n",
       "6. 'free.sulfur.dioxide'\n",
       "7. 'total.sulfur.dioxide'\n",
       "8. 'density'\n",
       "9. 'pH'\n",
       "10. 'sulphates'\n",
       "11. 'alcohol'\n",
       "\n",
       "\n"
      ],
      "text/plain": [
       " [1] \"fixed.acidity\"        \"volatile.acidity\"     \"citric.acid\"         \n",
       " [4] \"residual.sugar\"       \"chlorides\"            \"free.sulfur.dioxide\" \n",
       " [7] \"total.sulfur.dioxide\" \"density\"              \"pH\"                  \n",
       "[10] \"sulphates\"            \"alcohol\"             "
      ]
     },
     "metadata": {},
     "output_type": "display_data"
    }
   ],
   "source": [
    "colnames(df2)"
   ]
  },
  {
   "cell_type": "code",
   "execution_count": 38,
   "metadata": {},
   "outputs": [
    {
     "name": "stdout",
     "output_type": "stream",
     "text": [
      " [1] 19 33 10 26 18 24 21 14  4 27  2 15  7 11 22 30  9 32  3 23  1  5 29  6 25\n",
      "[26] 13 17  8 20 31 16 28 12\n",
      "[1] 19 33 10 26 18 24\n",
      " [1] 21 14  4 27  2 15  7 11 22 30  9 32  3 23  1  5 29  6 25 13 17  8 20 31 16\n",
      "[26] 28 12\n",
      "[1] 21 14  4 27  2 15  7\n",
      " [1] 19 33 10 26 18 24 11 22 30  9 32  3 23  1  5 29  6 25 13 17  8 20 31 16 28\n",
      "[26] 12\n",
      "[1] 11 22 30  9 32  3\n",
      " [1] 19 33 10 26 18 24 21 14  4 27  2 15  7 23  1  5 29  6 25 13 17  8 20 31 16\n",
      "[26] 28 12\n",
      "[1] 23  1  5 29  6 25 13\n",
      " [1] 19 33 10 26 18 24 21 14  4 27  2 15  7 11 22 30  9 32  3 17  8 20 31 16 28\n",
      "[26] 12\n",
      "[1] 17  8 20 31 16 28 12\n",
      " [1] 19 33 10 26 18 24 21 14  4 27  2 15  7 11 22 30  9 32  3 23  1  5 29  6 25\n",
      "[26] 13\n"
     ]
    }
   ],
   "source": [
    "N = 33\n",
    "K = 5\n",
    "order <- sample(N,N,replace=FALSE)\n",
    "print(order)\n",
    "for (i in 1:K){\n",
    "    start <- floor(N*(i-1)/K) + 1\n",
    "    stop  <- floor(N*i/K)\n",
    "    print(order[start:stop])\n",
    "    print(order[-(start:stop)])\n",
    "    #print(c(order[0:(start-1)], order[stop+1:length(order)]))\n",
    "}\n"
   ]
  },
  {
   "cell_type": "code",
   "execution_count": null,
   "metadata": {},
   "outputs": [],
   "source": []
  }
 ],
 "metadata": {
  "hide_input": false,
  "kernelspec": {
   "display_name": "R",
   "language": "R",
   "name": "ir"
  },
  "language_info": {
   "codemirror_mode": "r",
   "file_extension": ".r",
   "mimetype": "text/x-r-source",
   "name": "R",
   "pygments_lexer": "r",
   "version": "3.5.2"
  }
 },
 "nbformat": 4,
 "nbformat_minor": 2
}
